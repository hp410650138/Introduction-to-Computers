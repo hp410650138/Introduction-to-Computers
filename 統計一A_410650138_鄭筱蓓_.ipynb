{
  "nbformat": 4,
  "nbformat_minor": 0,
  "metadata": {
    "colab": {
      "name": "統計一A 410650138 鄭筱蓓 .ipynb",
      "provenance": [],
      "collapsed_sections": [],
      "authorship_tag": "ABX9TyPigvv4CPmKNiAUv25wsmrt",
      "include_colab_link": true
    },
    "kernelspec": {
      "name": "python3",
      "display_name": "Python 3"
    },
    "language_info": {
      "name": "python"
    }
  },
  "cells": [
    {
      "cell_type": "markdown",
      "metadata": {
        "id": "view-in-github",
        "colab_type": "text"
      },
      "source": [
        "<a href=\"https://colab.research.google.com/github/hp410650138/Introduction-to-Computers/blob/main/%E7%B5%B1%E8%A8%88%E4%B8%80A_410650138_%E9%84%AD%E7%AD%B1%E8%93%93_.ipynb\" target=\"_parent\"><img src=\"https://colab.research.google.com/assets/colab-badge.svg\" alt=\"Open In Colab\"/></a>"
      ]
    },
    {
      "cell_type": "code",
      "execution_count": null,
      "metadata": {
        "id": "WV8PZ5Sd1Q6E",
        "colab": {
          "base_uri": "https://localhost:8080/"
        },
        "outputId": "63c554c9-5868-4c51-ad3c-9a61a35e3e05"
      },
      "outputs": [
        {
          "output_type": "stream",
          "name": "stdout",
          "text": [
            "9\n"
          ]
        }
      ],
      "source": [
        "#指派運算子\n",
        "x=6\n",
        "x+=3\n",
        "print(x)"
      ]
    },
    {
      "cell_type": "code",
      "source": [
        "#指派運算子\n",
        "x=3\n",
        "x*=5\n",
        "print(x)"
      ],
      "metadata": {
        "colab": {
          "base_uri": "https://localhost:8080/"
        },
        "id": "5RYw0ebt5psB",
        "outputId": "dbdb905d-12b2-4ffd-ad4e-f552d9c52b2e"
      },
      "execution_count": null,
      "outputs": [
        {
          "output_type": "stream",
          "name": "stdout",
          "text": [
            "15\n"
          ]
        }
      ]
    },
    {
      "cell_type": "code",
      "source": [
        "#指派運算子\n",
        "x=15\n",
        "x%=3\n",
        "print(x)"
      ],
      "metadata": {
        "colab": {
          "base_uri": "https://localhost:8080/"
        },
        "id": "5O5gJpfN6D0p",
        "outputId": "9e7ba73e-ae23-431a-a331-41206788326c"
      },
      "execution_count": null,
      "outputs": [
        {
          "output_type": "stream",
          "name": "stdout",
          "text": [
            "0\n"
          ]
        }
      ]
    },
    {
      "cell_type": "code",
      "source": [
        "#關係運算子\n",
        "x=6>8\n",
        "print(x)"
      ],
      "metadata": {
        "colab": {
          "base_uri": "https://localhost:8080/"
        },
        "id": "tCmakAUm6dsh",
        "outputId": "47da8b62-34e3-48bb-b740-52fdc21b2d70"
      },
      "execution_count": null,
      "outputs": [
        {
          "output_type": "stream",
          "name": "stdout",
          "text": [
            "False\n"
          ]
        }
      ]
    },
    {
      "cell_type": "code",
      "source": [
        "#關係運算子\n",
        "x=100==100\n",
        "print(x)"
      ],
      "metadata": {
        "colab": {
          "base_uri": "https://localhost:8080/"
        },
        "id": "ov6o9l1P6yH0",
        "outputId": "3437d208-950f-4d45-950c-5baf36bfb0ac"
      },
      "execution_count": null,
      "outputs": [
        {
          "output_type": "stream",
          "name": "stdout",
          "text": [
            "True\n"
          ]
        }
      ]
    },
    {
      "cell_type": "code",
      "source": [
        "#關係運算子\n",
        "x=10!=10\n",
        "print(x)"
      ],
      "metadata": {
        "colab": {
          "base_uri": "https://localhost:8080/"
        },
        "id": "PckcSY3C7IGn",
        "outputId": "f574cd14-e464-456b-cb54-3206790b4d95"
      },
      "execution_count": null,
      "outputs": [
        {
          "output_type": "stream",
          "name": "stdout",
          "text": [
            "False\n"
          ]
        }
      ]
    },
    {
      "cell_type": "code",
      "source": [
        "#邏輯運算子\n",
        "x=(6>5)and(4>3)\n",
        "print(x)"
      ],
      "metadata": {
        "colab": {
          "base_uri": "https://localhost:8080/"
        },
        "id": "A4jEL7iQ7Vnn",
        "outputId": "263a620a-d367-4b50-87ff-ddb766b36edd"
      },
      "execution_count": null,
      "outputs": [
        {
          "output_type": "stream",
          "name": "stdout",
          "text": [
            "True\n"
          ]
        }
      ]
    },
    {
      "cell_type": "code",
      "source": [
        "#邏輯運算子\n",
        "x=(10>4)or(5>8)\n",
        "print(x)"
      ],
      "metadata": {
        "colab": {
          "base_uri": "https://localhost:8080/"
        },
        "id": "-DjceV9D70dY",
        "outputId": "9cbc3468-0991-4a85-ef20-68cc86ce39a9"
      },
      "execution_count": null,
      "outputs": [
        {
          "output_type": "stream",
          "name": "stdout",
          "text": [
            "True\n"
          ]
        }
      ]
    },
    {
      "cell_type": "code",
      "source": [
        "#邏輯運算子\n",
        "x=not(5<10)\n",
        "print(x)"
      ],
      "metadata": {
        "colab": {
          "base_uri": "https://localhost:8080/"
        },
        "id": "aJZQS54_8EjS",
        "outputId": "a1abe249-e982-47a3-85ff-31a8db46912e"
      },
      "execution_count": null,
      "outputs": [
        {
          "output_type": "stream",
          "name": "stdout",
          "text": [
            "False\n"
          ]
        }
      ]
    }
  ]
}