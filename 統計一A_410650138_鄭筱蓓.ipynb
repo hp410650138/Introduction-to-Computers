{
  "nbformat": 4,
  "nbformat_minor": 0,
  "metadata": {
    "colab": {
      "name": "統計一A 410650138 鄭筱蓓.ipynb",
      "provenance": [],
      "collapsed_sections": [],
      "authorship_tag": "ABX9TyPnzsVKWhw6y1ftVxF0TsOj",
      "include_colab_link": true
    },
    "kernelspec": {
      "name": "python3",
      "display_name": "Python 3"
    },
    "language_info": {
      "name": "python"
    }
  },
  "cells": [
    {
      "cell_type": "markdown",
      "metadata": {
        "id": "view-in-github",
        "colab_type": "text"
      },
      "source": [
        "<a href=\"https://colab.research.google.com/github/hp410650138/Introduction-to-Computers/blob/main/%E7%B5%B1%E8%A8%88%E4%B8%80A_410650138_%E9%84%AD%E7%AD%B1%E8%93%93.ipynb\" target=\"_parent\"><img src=\"https://colab.research.google.com/assets/colab-badge.svg\" alt=\"Open In Colab\"/></a>"
      ]
    },
    {
      "cell_type": "code",
      "execution_count": null,
      "metadata": {
        "colab": {
          "base_uri": "https://localhost:8080/"
        },
        "id": "gbF58QoOZX6w",
        "outputId": "49a718d6-d393-446b-f102-06eac83076b0"
      },
      "outputs": [
        {
          "output_type": "stream",
          "name": "stdout",
          "text": [
            "金州勇士現在有的球員陣容= ['Curry', 'Green', 'Wiggins', 'Looney', 'Thompson']\n",
            "勇士今天最高的三個得分 [30, 22, 28] 球員分別為 ['Curry', 'Wiggins', 'Thompson']\n",
            "勇士今天最低的兩個得分 [5, 6] 球員分別為 ['Green', 'Looney']\n",
            "勇士今天最高得分為 Curry 分數為 30 分\n",
            "勇士今天最低得分為 Green 分數為 5 分\n"
          ]
        }
      ],
      "source": [
        "Player=['Curry','Green','Durant','Looney','Thompson']\n",
        "Fraction = [30,5,22,6,28]\n",
        "Player[2]=\"Wiggins\"\n",
        "print(\"金州勇士現在有的球員陣容=\",Player)\n",
        "print(\"勇士今天最高的三個得分\",Fraction[0:5:2],\"球員分別為\",Player[0:5:2])\n",
        "print(\"勇士今天最低的兩個得分\",Fraction[1:4:2],\"球員分別為\",Player[1:4:2])\n",
        "print(\"勇士今天最高得分為\",Player[0],\"分數為\",max(Fraction),\"分\")\n",
        "print(\"勇士今天最低得分為\",Player[1],\"分數為\",min(Fraction),\"分\")"
      ]
    }
  ]
}