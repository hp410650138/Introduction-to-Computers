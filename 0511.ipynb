{
  "nbformat": 4,
  "nbformat_minor": 0,
  "metadata": {
    "colab": {
      "name": "0511.ipynb",
      "provenance": [],
      "collapsed_sections": [],
      "authorship_tag": "ABX9TyO9u0FiW0CcwlYD82+q8sb8",
      "include_colab_link": true
    },
    "kernelspec": {
      "name": "python3",
      "display_name": "Python 3"
    },
    "language_info": {
      "name": "python"
    }
  },
  "cells": [
    {
      "cell_type": "markdown",
      "metadata": {
        "id": "view-in-github",
        "colab_type": "text"
      },
      "source": [
        "<a href=\"https://colab.research.google.com/github/hp410650138/Introduction-to-Computers/blob/main/0511.ipynb\" target=\"_parent\"><img src=\"https://colab.research.google.com/assets/colab-badge.svg\" alt=\"Open In Colab\"/></a>"
      ]
    },
    {
      "cell_type": "code",
      "source": [
        "print(\"test\")"
      ],
      "metadata": {
        "colab": {
          "base_uri": "https://localhost:8080/"
        },
        "id": "8N9j282DDls8",
        "outputId": "4dcb2997-da2d-498c-f9b3-70daef9a75c4"
      },
      "execution_count": 1,
      "outputs": [
        {
          "output_type": "stream",
          "name": "stdout",
          "text": [
            "test\n"
          ]
        }
      ]
    },
    {
      "cell_type": "code",
      "execution_count": 6,
      "metadata": {
        "colab": {
          "base_uri": "https://localhost:8080/"
        },
        "id": "XiTmFVAyhEBp",
        "outputId": "bc3358f1-e01a-45d5-fb6b-ec6842fa9709"
      },
      "outputs": [
        {
          "output_type": "stream",
          "name": "stdout",
          "text": [
            "請輸入你的體溫37.5\n",
            "體溫過高!\n"
          ]
        }
      ],
      "source": [
        "temp = float(input(\"請輸入你的體溫\"))\n",
        "if (temp>=37.5):\n",
        "    print(\"體溫過高!\")\n",
        "elif (temp>=37 and temp<37.4):\n",
        "    print(\"體溫略高!\")\n",
        "elif (temp>=34 and temp<36.9):\n",
        "    print(\"體溫正常!\")\n",
        "else:\n",
        "    print(\"體溫異常，請重新量測!\")"
      ]
    },
    {
      "cell_type": "code",
      "source": [
        "money = int(input(\"請輸入購物金額:\"))\n",
        "if(money>=10000):\n",
        "  if(money>=100000):\n",
        "    print(\"八折\",money*0.8,end=\"元\\n\")\n",
        "  elif(money>=50000):\n",
        "    print(\"八五折\",money*0.85,end=\"元\\n\")\n",
        "  elif(money>=30000):\n",
        "    print(\"九折\",money*0.9,end=\"元\\n\")\n",
        "  else:\n",
        "    print(\"九五折\",money*0.95,end=\"元\\n\")\n",
        "else:\n",
        "    print(\"沒打折\",money,end=\"元\\n\")\n",
        "\n",
        "money = int(input(\"請輸入購物金額:\"))\n",
        "if(money>=10000):\n",
        "  if(money>=100000):\n",
        "    print(\"八折\",money*0.8,end=\"元\\n\")\n",
        "  elif(money>=50000):\n",
        "    print(\"八五折\",money*0.85,end=\"元\\n\")\n",
        "  elif(money>=30000):\n",
        "    print(\"九折\",money*0.9,end=\"元\\n\")\n",
        "  else:\n",
        "    print(\"九五折\",money*0.95,end=\"元\\n\")\n",
        "else:\n",
        "    print(\"沒打折\",money,end=\"元\\n\")\n",
        "      \n",
        "    \n"
      ],
      "metadata": {
        "colab": {
          "base_uri": "https://localhost:8080/"
        },
        "id": "DM6kUFbqnt8I",
        "outputId": "fe2f27df-b3c6-43bb-b261-cf674d65e7b9"
      },
      "execution_count": 2,
      "outputs": [
        {
          "output_type": "stream",
          "name": "stdout",
          "text": [
            "請輸入購物金額:100\n",
            "沒打折 100元\n",
            "請輸入購物金額:100000\n",
            "八折 80000.0元\n"
          ]
        }
      ]
    },
    {
      "cell_type": "code",
      "source": [
        "score = int(input(\"請輸入你的成績:\"))\n",
        "if (score>=90):\n",
        "    print(\"A\")\n",
        "elif (score>=80 and score<=89):\n",
        "    print(\"B\")\n",
        "elif (score>=70 and score<=79):\n",
        "    print(\"C\")\n",
        "elif (score>=60 and score<=69):\n",
        "    print(\"D\")\n",
        "else:\n",
        "    print(\"E\")\n",
        "\n",
        "score = int(input(\"請輸入你的成績:\"))\n",
        "if (score>=90):\n",
        "    print(\"A\")\n",
        "elif (score>=80 and score<=89):\n",
        "    print(\"B\")\n",
        "elif (score>=70 and score<=79):\n",
        "    print(\"C\")\n",
        "elif (score>=60 and score<=69):\n",
        "    print(\"D\")\n",
        "else:\n",
        "    print(\"E\")\n",
        "\n",
        "score = int(input(\"請輸入你的成績:\"))\n",
        "if (score>=90):\n",
        "    print(\"A\")\n",
        "elif (score>=80 and score<=89):\n",
        "    print(\"B\")\n",
        "elif (score>=70 and score<=79):\n",
        "    print(\"C\")\n",
        "elif (score>=60 and score<=69):\n",
        "    print(\"D\")\n",
        "else:\n",
        "    print(\"E\")\n"
      ],
      "metadata": {
        "colab": {
          "base_uri": "https://localhost:8080/"
        },
        "id": "WD3IhbF1uBX7",
        "outputId": "c6424ec4-1803-4fc7-9004-a6ffe6052f69"
      },
      "execution_count": 10,
      "outputs": [
        {
          "output_type": "stream",
          "name": "stdout",
          "text": [
            "請輸入你的成績:90\n",
            "A\n",
            "請輸入你的成績:80\n",
            "B\n",
            "請輸入你的成績:50\n",
            "E\n"
          ]
        }
      ]
    },
    {
      "cell_type": "code",
      "source": [
        "month = int(input(\"請輸入月份:\"))\n",
        "if (month>=1 and month<=12):\n",
        "  if (month>=3 and month<=5):\n",
        "    print(month,\"月是春天!\")\n",
        "  elif (month>=6 and month<=8):\n",
        "    print(month,\"月是夏天!\")\n",
        "  elif (month>=9 and month<=11):\n",
        "    print(month,\"月是秋天!\")\n",
        "  elif (month>=12 and month<=2):\n",
        "    print(month,\"月是冬天!\")\n",
        "else:\n",
        "    print(\"月份不在範圍內!\")\n"
      ],
      "metadata": {
        "id": "8rpjsRQIwgV8",
        "colab": {
          "base_uri": "https://localhost:8080/"
        },
        "outputId": "bee85042-1048-40c8-8f27-21e5d3be9748"
      },
      "execution_count": 4,
      "outputs": [
        {
          "output_type": "stream",
          "name": "stdout",
          "text": [
            "請輸入月份:6\n",
            "6 月是夏天!\n"
          ]
        }
      ]
    },
    {
      "cell_type": "code",
      "source": [
        "income = int(input(\"請輸入收入:\"))\n",
        "if (income>=300000):\n",
        "  if(income>=2000000):\n",
        "    print(\"付稅金額:\",(income*0.3),\"元\")\n",
        "  elif(income>=1000000):\n",
        "    print(\"付稅金額:\",(income*0.21),\"元\")\n",
        "  elif(income>=600000):\n",
        "    print(\"付稅金額:\",(income*0.13),\"元\")\n",
        "  elif(income>=300000):\n",
        "    print(\"付稅金額:\",(income*0.06),\"元\")\n",
        "else:\n",
        "    print(\"付稅金額:\",(income*0),\"元\")\n",
        "\n",
        "income = int(input(\"請輸入收入:\"))\n",
        "if (income>=300000):\n",
        "  if(income>=2000000):\n",
        "    print(\"付稅金額:\",(income*0.3),\"元\")\n",
        "  elif(income>=1000000):\n",
        "    print(\"付稅金額:\",(income*0.21),\"元\")\n",
        "  elif(income>=600000):\n",
        "    print(\"付稅金額:\",(income*0.13),\"元\")\n",
        "  elif(income>=300000):\n",
        "    print(\"付稅金額:\",(income*0.06),\"元\")\n",
        "else:\n",
        "    print(\"付稅金額:\",(income*0),\"元\")"
      ],
      "metadata": {
        "colab": {
          "base_uri": "https://localhost:8080/"
        },
        "id": "IyeGzTm11Dqm",
        "outputId": "8a2f7a96-fcf8-4f2d-8e7a-b3d3bd4d00d1"
      },
      "execution_count": 5,
      "outputs": [
        {
          "output_type": "stream",
          "name": "stdout",
          "text": [
            "請輸入收入:100000\n",
            "付稅金額: 0 元\n",
            "請輸入收入:2000000\n",
            "付稅金額: 600000.0 元\n"
          ]
        }
      ]
    },
    {
      "cell_type": "markdown",
      "source": [
        ""
      ],
      "metadata": {
        "id": "v9V2b16H8thx"
      }
    }
  ]
}