{
  "nbformat": 4,
  "nbformat_minor": 0,
  "metadata": {
    "colab": {
      "name": "實習串列作業.ipynb",
      "provenance": [],
      "authorship_tag": "ABX9TyNKpfqUKtsCFSOxftYl1sFr",
      "include_colab_link": true
    },
    "kernelspec": {
      "name": "python3",
      "display_name": "Python 3"
    },
    "language_info": {
      "name": "python"
    }
  },
  "cells": [
    {
      "cell_type": "markdown",
      "metadata": {
        "id": "view-in-github",
        "colab_type": "text"
      },
      "source": [
        "<a href=\"https://colab.research.google.com/github/hp410650138/Introduction-to-Computers/blob/main/%E5%AF%A6%E7%BF%92%E4%B8%B2%E5%88%97%E4%BD%9C%E6%A5%AD.ipynb\" target=\"_parent\"><img src=\"https://colab.research.google.com/assets/colab-badge.svg\" alt=\"Open In Colab\"/></a>"
      ]
    },
    {
      "cell_type": "code",
      "execution_count": 17,
      "metadata": {
        "colab": {
          "base_uri": "https://localhost:8080/"
        },
        "id": "gbF58QoOZX6w",
        "outputId": "825cc60e-0e6e-4f43-f4ff-906e10054d1a"
      },
      "outputs": [
        {
          "output_type": "stream",
          "name": "stdout",
          "text": [
            "金州勇士現在有的球員陣容= ['Curry', 'Green', 'Wiggins', 'Looney', 'Thompson']\n",
            "勇士今天最高的三個得分 [30, 22, 28] 球員分別為 ['Curry', 'Wiggins', 'Thompson']\n",
            "勇士今天最低的兩個得分 [5, 6] 球員分別為 ['Green', 'Looney']\n",
            "勇士今天最高得分為 Curry 分數為 30 分\n",
            "勇士今天最低得分為 Green 分數為 5 分\n"
          ]
        }
      ],
      "source": [
        "Player=['Curry','Green','Wiggins','Looney','Thompson']\n",
        "Fraction = [30,5,22,6,28]\n",
        "print(\"金州勇士現在有的球員陣容=\",Player)\n",
        "print(\"勇士今天最高的三個得分\",Fraction[0:5:2],\"球員分別為\",Player[0:5:2])\n",
        "print(\"勇士今天最低的兩個得分\",Fraction[1:4:2],\"球員分別為\",Player[1:4:2])\n",
        "print(\"勇士今天最高得分為\",Player[0],\"分數為\",max(Fraction),\"分\")\n",
        "print(\"勇士今天最低得分為\",Player[1],\"分數為\",min(Fraction),\"分\")"
      ]
    }
  ]
}